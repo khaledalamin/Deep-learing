{
 "cells": [
  {
   "cell_type": "code",
   "execution_count": 1,
   "id": "tropical-beaver",
   "metadata": {},
   "outputs": [],
   "source": [
    "import numpy as np\n",
    "import matplotlib.pyplot as plt\n",
    "import h5py\n",
    "import scipy\n",
    "from glob import glob\n",
    "from PIL import Image\n",
    "from scipy import ndimage\n",
    "import torch.nn as nn\n",
    "\n",
    "#from lr_utils import load_dataset\n",
    "\n",
    "%matplotlib inline"
   ]
  },
  {
   "cell_type": "code",
   "execution_count": 2,
   "id": "focused-logistics",
   "metadata": {},
   "outputs": [],
   "source": [
    "# function to get the numpy array of the image\n",
    "def dataset(dir_0, dir_1):\n",
    "    train_x_00 = np.empty((0,64,64,3))\n",
    "    train_x_01 = np.empty((0,64,64,3))\n",
    "    \n",
    "    train_x_0 = np.empty((0,64,64,3))\n",
    "    train_x_1 = np.empty((0,64,64,3))\n",
    "    \n",
    "    test_x_0 = np.empty((0,64,64,3))\n",
    "    test_x_1 = np.empty((0,64,64,3))\n",
    "    \n",
    "    train_y_0 = np.empty((0,1))\n",
    "    train_y_1 = np.empty((0,1))\n",
    "    \n",
    "    test_y_0 = np.empty((0,1))\n",
    "    test_y_1 = np.empty((0,1))\n",
    "    \n",
    "    count = 1\n",
    "    #for x,y in zip(os.listdir(dir_0), os.listdir(dir_1)):\n",
    "     #   x = dir_0 + x\n",
    "      #  y = dir_1 + y\n",
    "    for i,j in zip(os.listdir(dir_0), os.listdir(dir_1)):\n",
    "        i = dir_0 + i\n",
    "        j = dir_1 + j\n",
    "    \n",
    "    #s = np.zeros((1,1,1,1))\n",
    "        #for i,j in zip(glob(x + \"/*.png\"), glob(y+ \"/*.png\")):\n",
    "        i = Image.open(i)\n",
    "        j = Image.open(j)\n",
    "\n",
    "        i = np.asarray(i)\n",
    "        i = i[np.newaxis, :, :, :]\n",
    "        j = np.asarray(j)\n",
    "        j = j[np.newaxis, :, :, :]\n",
    "\n",
    "        train_x_00 = np.concatenate((train_x_00, i), axis = 0)\n",
    "        train_x_01 = np.concatenate((train_x_01, j))\n",
    "\n",
    "    l = np.floor(train_x_01.shape[0]/1.5).astype(int)\n",
    "    train_x_0 = np.concatenate((train_x_0, train_x_00[:l,:,:,:]), axis = 0)\n",
    "    train_x_1 = np.concatenate((train_x_1, train_x_01[:l,:,:,:]))\n",
    "\n",
    "    train_y_0 = np.concatenate((train_y_0, np.full((train_x_00[:l,:,:,:].shape[0], 1), 0, dtype=int))).astype('uint8')\n",
    "    train_y_1 = np.concatenate((train_y_1, np.full((train_x_01[:l,:,:,:].shape[0], 1), count, dtype=int))).astype('uint8')\n",
    "\n",
    "    test_x_0 = np.concatenate((test_x_0, train_x_00[l:,:,:,:]), axis = 0)\n",
    "    test_x_1 = np.concatenate((test_x_1, train_x_01[l:,:,:,:]))\n",
    "\n",
    "    test_y_0 = np.concatenate((test_y_0, np.full((train_x_00[l:,:,:,:].shape[0], 1), 0, dtype=int))).astype('uint8')\n",
    "    test_y_1 = np.concatenate((test_y_1, np.full((train_x_01[l:,:,:,:].shape[0], 1), count, dtype=int))).astype('uint8')\n",
    "\n",
    "    train_x_00 = np.empty((0,64,64,3))\n",
    "    train_x_01 = np.empty((0,64,64,3))\n",
    "\n",
    "    count += 1\n",
    "#plt.imshow(train)\n",
    "    \n",
    "    \n",
    "    train_y = np.concatenate((train_y_0, train_y_1)).astype('uint8')\n",
    "    train_x = np.concatenate((train_x_0, train_x_1)).astype('uint8')\n",
    "    test_y = np.concatenate((test_y_0, test_y_1)).astype('uint8')\n",
    "    test_x = np.concatenate((test_x_0, test_x_1)).astype('uint8')\n",
    "    #train = np.concatenate((train_x, train_y), axis= 1)\n",
    "    #print(train.shape)\n",
    "    return train_x, train_y, test_x, test_y"
   ]
  },
  {
   "cell_type": "code",
   "execution_count": 3,
   "id": "anticipated-steal",
   "metadata": {},
   "outputs": [],
   "source": [
    "import os\n",
    "file_0 = 'C:/Users/kalee/Desktop/car_camera_front_view/OwnCollection/non-vehicles/Far/'\n",
    "file_1 = 'C:/Users/kalee/Desktop/car_camera_front_view/OwnCollection/vehicles/far/'\n",
    "train_x, train_y, test_x, test_y = dataset(file_0, file_1)\n",
    "\n"
   ]
  },
  {
   "cell_type": "code",
   "execution_count": 4,
   "id": "indonesian-clerk",
   "metadata": {},
   "outputs": [],
   "source": [
    "train_y = train_y.reshape(1,-1)\n",
    "test_y = test_y.reshape(1,-1)"
   ]
  },
  {
   "cell_type": "code",
   "execution_count": 5,
   "id": "smart-reunion",
   "metadata": {},
   "outputs": [
    {
     "name": "stdout",
     "output_type": "stream",
     "text": [
      "Number of training examples: m_train = 1300\n",
      "Number of testing examples: m_test = 650\n",
      "Height/Width of each image: num_px = 6464\n",
      "train_set_x shape: (1300, 64, 64, 3)\n",
      "train_set_y shape: (1, 1300)\n",
      "test_set_x shape: (650, 64, 64, 3)\n",
      "test_set_y shape: (1, 650)\n"
     ]
    }
   ],
   "source": [
    "print (\"Number of training examples: m_train = \" + str(train_x.shape[0]))\n",
    "print (\"Number of testing examples: m_test = \" + str(test_y.shape[1]))\n",
    "print (\"Height/Width of each image: num_px = \" + str(train_x.shape[1]) + str(train_x.shape[2]))\n",
    "print (\"train_set_x shape: \" + str(train_x.shape))\n",
    "print (\"train_set_y shape: \" + str(train_y.shape))\n",
    "print (\"test_set_x shape: \" + str(test_x.shape))\n",
    "print (\"test_set_y shape: \" + str(test_y.shape))"
   ]
  },
  {
   "cell_type": "code",
   "execution_count": 6,
   "id": "endless-simon",
   "metadata": {},
   "outputs": [
    {
     "data": {
      "text/plain": [
       "<matplotlib.image.AxesImage at 0x14f81002908>"
      ]
     },
     "execution_count": 6,
     "metadata": {},
     "output_type": "execute_result"
    },
    {
     "data": {
      "image/png": "[encoded data removed]",
      "text/plain": [
       "<Figure size 432x288 with 1 Axes>"
      ]
     },
     "metadata": {
      "needs_background": "light"
     },
     "output_type": "display_data"
    }
   ],
   "source": [
    "plt.imshow(train_x[1000])"
   ]
  },
  {
   "cell_type": "markdown",
   "id": "adverse-thriller",
   "metadata": {},
   "source": [
    "## Flattining up feautres into single column"
   ]
  },
  {
   "cell_type": "code",
   "execution_count": 7,
   "id": "tight-removal",
   "metadata": {},
   "outputs": [
    {
     "name": "stdout",
     "output_type": "stream",
     "text": [
      "train_set_x_flatten shape: (12288, 1300)\n",
      "train_set_y shape: (1, 1300)\n",
      "test_set_x_flatten shape: (12288, 650)\n",
      "test_set_y shape: (1, 650)\n",
      "sanity check after reshaping: [120 125 113 108 110]\n"
     ]
    }
   ],
   "source": [
    "train_x_flat = train_x.reshape(train_x.shape[1] * train_x.shape[2] * train_x.shape[3], -1)\n",
    "test_x_flat = test_x.reshape(test_x.shape[1] * test_x.shape[2] * test_x.shape[3], -1)\n",
    "# Reshape the training and test examples\n",
    "\n",
    "\n",
    "print (\"train_set_x_flatten shape: \" + str(train_x_flat.shape))\n",
    "print (\"train_set_y shape: \" + str(train_y.shape))\n",
    "print (\"test_set_x_flatten shape: \" + str(test_x_flat.shape))\n",
    "print (\"test_set_y shape: \" + str(test_y.shape))\n",
    "print (\"sanity check after reshaping: \" + str(train_x_flat[0:5,0]))"
   ]
  },
  {
   "cell_type": "code",
   "execution_count": 8,
   "id": "plastic-competition",
   "metadata": {},
   "outputs": [],
   "source": [
    "train = np.concatenate((train_x_flat, train_y))\n",
    "train = train[:,np.random.permutation(train.shape[1])]"
   ]
  },
  {
   "cell_type": "code",
   "execution_count": 9,
   "id": "exempt-munich",
   "metadata": {},
   "outputs": [],
   "source": [
    "train_y = train[12288].reshape(1,-1)\n",
    "train_x_flat = train[0:12288]"
   ]
  },
  {
   "cell_type": "markdown",
   "id": "wicked-latitude",
   "metadata": {},
   "source": [
    "## Normalize the features"
   ]
  },
  {
   "cell_type": "code",
   "execution_count": 10,
   "id": "orange-following",
   "metadata": {},
   "outputs": [],
   "source": [
    "train_x = train_x_flat/255\n",
    "test_x  = test_x_flat/255"
   ]
  },
  {
   "cell_type": "code",
   "execution_count": 11,
   "id": "bronze-currency",
   "metadata": {},
   "outputs": [
    {
     "data": {
      "text/plain": [
       "(12288, 1300)"
      ]
     },
     "execution_count": 11,
     "metadata": {},
     "output_type": "execute_result"
    }
   ],
   "source": [
    "train_x.shape"
   ]
  },
  {
   "cell_type": "code",
   "execution_count": 12,
   "id": "instructional-webcam",
   "metadata": {},
   "outputs": [
    {
     "name": "stdout",
     "output_type": "stream",
     "text": [
      "sanity check after reshaping: [0.47058824 0.47058824 0.43921569 0.4        0.43137255]\n"
     ]
    }
   ],
   "source": [
    "print (\"sanity check after reshaping: \" + str(train_x[0:5,0]))"
   ]
  },
  {
   "cell_type": "markdown",
   "id": "hydraulic-space",
   "metadata": {},
   "source": [
    "## Helper function:\n",
    "1. Initialize the weight and bias\n",
    "2. Sigmoid output{0-1}\n",
    "3. forward propogation (WX+b)\n",
    "4. backward propogation (partial derivative)\n",
    "5. update parameter\n",
    "6. calculate cost function"
   ]
  },
  {
   "cell_type": "code",
   "execution_count": 13,
   "id": "civic-quebec",
   "metadata": {},
   "outputs": [],
   "source": [
    "def initialization(dim):\n",
    "    '''Used to initialize the weight and bias'''\n",
    "    np.random.seed(3)\n",
    "    w = np.random.randn(dim,1) * 0.01\n",
    "    b = 0\n",
    "    return w, b"
   ]
  },
  {
   "cell_type": "code",
   "execution_count": 14,
   "id": "elect-mattress",
   "metadata": {},
   "outputs": [
    {
     "data": {
      "text/plain": [
       "(12288, 1)"
      ]
     },
     "execution_count": 14,
     "metadata": {},
     "output_type": "execute_result"
    }
   ],
   "source": [
    "w, b = initialization(train_x.shape[0])\n",
    "w.shape"
   ]
  },
  {
   "cell_type": "code",
   "execution_count": 16,
   "id": "acknowledged-affiliate",
   "metadata": {},
   "outputs": [
    {
     "data": {
      "text/plain": [
       "array([0.5       , 0.73105858, 0.88079708])"
      ]
     },
     "execution_count": 16,
     "metadata": {},
     "output_type": "execute_result"
    }
   ],
   "source": [
    "def sigmoid(z):\n",
    "    '''Used to get the sigmoid for the output layer'''\n",
    "    a = 1/(1 + np.exp(-z))\n",
    "    #assert(a.shape == z.shape)\n",
    "    return a\n",
    "\n",
    "sigmoid(np.array([0,1,2]))"
   ]
  },
  {
   "cell_type": "code",
   "execution_count": 17,
   "id": "catholic-february",
   "metadata": {},
   "outputs": [],
   "source": [
    "def one_hot(y):\n",
    "    # Define zero array with shape = num_of_classes - 1, num_examples\n",
    "    y_hat = np.zeros((len(set(y[0,:])), y.shape[1]))\n",
    "    # iterate over examples where the class found replace with one in the defined array above\n",
    "    for i in range(len(y_hat[0,:])):\n",
    "        # If the class != zero then replace the row represent the class with one\n",
    "        if y[0,i] != 0:\n",
    "            y_hat[y[0,i] - 1, i]  = 1\n",
    "        # Return the defined array\n",
    "    return y_hat"
   ]
  },
  {
   "cell_type": "code",
   "execution_count": 18,
   "id": "apparent-insulin",
   "metadata": {},
   "outputs": [
    {
     "data": {
      "text/plain": [
       "array([0., 0.])"
      ]
     },
     "execution_count": 18,
     "metadata": {},
     "output_type": "execute_result"
    }
   ],
   "source": [
    "e = one_hot(train_y)\n",
    "e[:,25]"
   ]
  },
  {
   "cell_type": "code",
   "execution_count": 20,
   "id": "discrete-slide",
   "metadata": {},
   "outputs": [
    {
     "data": {
      "text/plain": [
       "[array([0.1, 0.1]),\n",
       " array([0., 0.]),\n",
       " array([0.1, 0. ]),\n",
       " array([0.1, 0. ]),\n",
       " array([0., 0.])]"
      ]
     },
     "execution_count": 20,
     "metadata": {},
     "output_type": "execute_result"
    }
   ],
   "source": [
    "x = np.array([[1,1,1,1,1],[1,1,1,1,1]])\n",
    "y= np.array([[1,0,1,1,0], [1,0,0,0,0]])\n",
    "l = []\n",
    "for i in  range(x.shape[1]):\n",
    "    l.append(((x[:,i]==y[:,i]).astype(int))/10)\n",
    "l"
   ]
  },
  {
   "cell_type": "code",
   "execution_count": 21,
   "id": "cordless-reminder",
   "metadata": {},
   "outputs": [],
   "source": [
    "def pred(x, y, x_test, y_test, learning_rate, num_iteration, print_cost = False):\n",
    "    np.random.seed(1)\n",
    "    costs=[]\n",
    "    costs_dev = []\n",
    "    m = x.shape[1]\n",
    "    dim = x.shape[0]\n",
    "    w, b = initialization(dim)\n",
    "    #y = one_hot(y)\n",
    "    for i in range(num_iteration):\n",
    "\n",
    "        z = np.matmul(w.T, x) + b\n",
    "        z_dev = np.matmul(w.T, x_test) + b\n",
    "        #print(z.shape)\n",
    "        #a = softmax(z)\n",
    "        a = sigmoid(z)\n",
    "        a_dev = sigmoid(z_dev)\n",
    "        cost = -1/m * np.sum((y * np.log(a)) - ((1-y) * np.log(1-a)) )\n",
    "        cost_dev = -1/m * np.sum((y_test * np.log(a_dev)) - ((1-y_test) * np.log(1-a_dev)) )\n",
    "        #cost = -1/m * np.sum( y * np.log(a) )\n",
    "        dw = 1/m *(np.matmul(x, (a-y).T))\n",
    "        #print(dw.shape)\n",
    "        db = 1/m *(np.sum(a-y))\n",
    "        #print(\"dw shape = \", dw.shape)\n",
    "\n",
    "        w = w - (learning_rate * dw)\n",
    "        b = b - learning_rate * db\n",
    "        \n",
    "        if print_cost and i % 100 == 0:\n",
    "            costs.append(cost)\n",
    "            costs_dev.append(cost_dev)\n",
    "            print (\"Cost after iteration %i: %f\" %(i, cost))\n",
    "            \n",
    "    #z_0 = np.matmul(w.T, x) + b\n",
    "    #a_0 = softmax(z_0)\n",
    "    #a_0 = sigmoid(z_0)\n",
    "    #z_1 = np.matmul(w.T, x_test) + b\n",
    "    #a_1 = softmax(z_1)\n",
    "    #a_1 = sigmoid(z_1)\n",
    "    #print(a_1.shape)\n",
    "    #print(a_1[:,1])\n",
    "    #for i in a_1.shape[0]:\n",
    "    #print(w.shape)\n",
    "    y_predict_train = predict(w, b, x)\n",
    "    y_predict_test = predict(w, b, x_test)\n",
    "    #y_predict_train = one_hot(y_predict_train)\n",
    "    #y_predict_test = one_hot(y_predict_test)\n",
    "        \n",
    "    \n",
    "    print('train accuracy = ', (100 - np.mean(np.abs(y_predict_train - y)) * 100))\n",
    "    print('test accuracy = ', (100 - np.mean(np.abs(y_predict_test - y_test)) * 100))\n",
    "   \n",
    "    plt.plot(np.squeeze(costs), label='Train')\n",
    "    plt.plot(np.squeeze(costs_dev), label='Valid')\n",
    "    plt.ylabel('cost')\n",
    "    plt.xlabel('iterations (per hundreds)')\n",
    "    plt.title(\"Learning rate =\" + str(learning_rate))\n",
    "    plt.legend()\n",
    "    plt.show()\n",
    "    \n",
    "    return a \n"
   ]
  },
  {
   "cell_type": "code",
   "execution_count": 22,
   "id": "related-edward",
   "metadata": {},
   "outputs": [],
   "source": [
    "# GRADED FUNCTION: predict\n",
    "\n",
    "def predict(w, b, X):\n",
    "    '''\n",
    "    Predict whether the label is 0 or 1 using learned logistic regression parameters (w, b)\n",
    "    \n",
    "    Arguments:\n",
    "    w -- weights, a numpy array of size (num_px * num_px * 3, 1)\n",
    "    b -- bias, a scalar\n",
    "    X -- data of size (num_px * num_px * 3, number of examples)\n",
    "    \n",
    "    Returns:\n",
    "    Y_prediction -- a numpy array (vector) containing all predictions (0/1) for the examples in X\n",
    "    '''\n",
    "    \n",
    "    m = X.shape[1]\n",
    "    Y_prediction = np.zeros((1,m))\n",
    "    w = w.reshape(X.shape[0], 1)\n",
    "    \n",
    "    # Compute vector \"A\" predicting the probabilities of a cat being present in the picture\n",
    "    ### START CODE HERE ### (≈ 1 line of code)\n",
    "    A = sigmoid(np.matmul(w.T, X) + b)\n",
    "    ### END CODE HERE ###\n",
    "    \n",
    "    for i in range(X.shape[1]):\n",
    "        \n",
    "        # Convert probabilities A[0,i] to actual predictions p[0,i]\n",
    "        ### START CODE HERE ### (≈ 4 lines of code)\n",
    "        Y_prediction[:,i] = np.where(A[:,i] <= 0.5, 0 , 1)\n",
    "        ### END CODE HERE ###\n",
    "    \n",
    "    assert(Y_prediction.shape == (1, m))\n",
    "    \n",
    "    return Y_prediction"
   ]
  },
  {
   "cell_type": "code",
   "execution_count": 23,
   "id": "overhead-tissue",
   "metadata": {},
   "outputs": [
    {
     "name": "stdout",
     "output_type": "stream",
     "text": [
      "Cost after iteration 0: 0.375112\n",
      "Cost after iteration 100: -0.000035\n",
      "Cost after iteration 200: 0.000020\n",
      "Cost after iteration 300: 0.000037\n",
      "Cost after iteration 400: 0.000044\n",
      "Cost after iteration 500: 0.000047\n",
      "Cost after iteration 600: 0.000049\n",
      "Cost after iteration 700: 0.000049\n",
      "Cost after iteration 800: 0.000049\n",
      "train accuracy =  100.0\n",
      "test accuracy =  66.3076923076923\n"
     ]
    },
    {
     "data": {
      "image/png": "[encoded data removed]",
      "text/plain": [
       "<Figure size 432x288 with 1 Axes>"
      ]
     },
     "metadata": {
      "needs_background": "light"
     },
     "output_type": "display_data"
    }
   ],
   "source": [
    "d = pred(train_x, train_y, test_x, test_y, 0.01, 900, True )"
   ]
  },
  {
   "cell_type": "code",
   "execution_count": null,
   "id": "accompanied-portland",
   "metadata": {},
   "outputs": [],
   "source": []
  }
 ],
 "metadata": {
  "kernelspec": {
   "display_name": "Python 3",
   "language": "python",
   "name": "python3"
  },
  "language_info": {
   "codemirror_mode": {
    "name": "ipython",
    "version": 3
   },
   "file_extension": ".py",
   "mimetype": "text/x-python",
   "name": "python",
   "nbconvert_exporter": "python",
   "pygments_lexer": "ipython3",
   "version": "3.6.8"
  }
 },
 "nbformat": 4,
 "nbformat_minor": 5
}
